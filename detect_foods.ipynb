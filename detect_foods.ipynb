{
  "cells": [
    {
      "cell_type": "markdown",
      "metadata": {
        "id": "lNN82hnXLCWn"
      },
      "source": [
        "## ติดตั้งและนำเข้าไลบรารีที่จำเป็น"
      ]
    },
    {
      "cell_type": "code",
      "execution_count": null,
      "metadata": {
        "colab": {
          "base_uri": "https://localhost:8080/"
        },
        "id": "lCyOBZuL8cIm",
        "outputId": "004658de-5e7e-4e63-c00d-80254b5e6906"
      },
      "outputs": [],
      "source": [
        "!pip install ultralytics gradio"
      ]
    },
    {
      "cell_type": "code",
      "execution_count": null,
      "metadata": {
        "id": "05T4SfAE9cfL"
      },
      "outputs": [],
      "source": [
        "from ultralytics import YOLO\n",
        "import torch\n",
        "import cv2\n",
        "import gradio as gr\n",
        "import json\n",
        "import numpy as np\n"
      ]
    },
    {
      "cell_type": "code",
      "execution_count": null,
      "metadata": {
        "colab": {
          "base_uri": "https://localhost:8080/"
        },
        "id": "z6ePAJss_fJ7",
        "outputId": "9e4da3dd-c9b6-43e6-d93b-1e06ad274e27"
      },
      "outputs": [],
      "source": [
        "import glob\n",
        "\n",
        "train_imgs = glob.glob(\"/path/to/dataset/images/train/*.jpg\")\n",
        "valid_imgs = glob.glob(\"/path/to/dataset/images/val/*.jpg\")\n",
        "#test_imgs = glob.glob(\"football-players-detection-9/test/images/*.jpg\")\n",
        "\n",
        "print(\"Training images:\", len(train_imgs))\n",
        "print(\"validation images:\", len(valid_imgs))\n",
        "#print(\"test images:\", len(test_imgs))"
      ]
    },
    {
      "cell_type": "code",
      "execution_count": null,
      "metadata": {
        "colab": {
          "base_uri": "https://localhost:8080/"
        },
        "id": "jR2FXV-iAUS6",
        "outputId": "289b4a8a-bb9f-46c4-df2d-54f012ef7195"
      },
      "outputs": [],
      "source": [
        "model = YOLO(\"yolov8m.yaml\").load(\"yolov8m.pt\")"
      ]
    },
    {
      "cell_type": "code",
      "execution_count": null,
      "metadata": {
        "colab": {
          "base_uri": "https://localhost:8080/"
        },
        "id": "rBn_2ppvAZ8k",
        "outputId": "89839113-fb07-4ee8-fe9d-554361c40c37"
      },
      "outputs": [],
      "source": [
        "model"
      ]
    },
    {
      "cell_type": "code",
      "execution_count": null,
      "metadata": {
        "colab": {
          "base_uri": "https://localhost:8080/"
        },
        "id": "2K9bUnuPAhbu",
        "outputId": "15014116-4d61-4f19-b548-21eca819afd1"
      },
      "outputs": [],
      "source": [
        "# Train the model\n",
        "model.train(data=\"/path/to/data.yaml\", epochs=100, imgsz=640)\n"
      ]
    },
    {
      "cell_type": "markdown",
      "metadata": {
        "id": "RJYEzjElMGM9"
      },
      "source": [
        "## โหลดโมเดลที่ฝึกสอนแล้วสำหรับการทำนาย"
      ]
    },
    {
      "cell_type": "code",
      "execution_count": null,
      "metadata": {
        "colab": {
          "base_uri": "https://localhost:8080/"
        },
        "collapsed": true,
        "id": "b54NZy4WMIjM",
        "outputId": "f29a867b-9e1c-4d4a-ff26-9d65e145345b"
      },
      "outputs": [],
      "source": [
        "device = torch.device('cuda' if torch.cuda.is_available() else 'cpu')\n",
        "model = YOLO(\"/path/to/best.pt\").to(device)  # แทนที่ด้วย path ที่แท้จริง\n",
        "model.eval()"
      ]
    },
    {
      "cell_type": "code",
      "execution_count": null,
      "metadata": {
        "id": "ySpt76N6Nlxi"
      },
      "outputs": [],
      "source": [
        "# def capture_frame():\n",
        "#     # เปิดการเชื่อมต่อกับ webcam\n",
        "#     cap = cv2.VideoCapture(0)\n",
        "#     ret, frame = cap.read()\n",
        "#     if not ret:\n",
        "#         return None\n",
        "#     # ปิดการเชื่อมต่อกับ webcam\n",
        "#     cap.release()\n",
        "#     # เปลี่ยนสีจาก BGR เป็น RGB\n",
        "#     frame = cv2.cvtColor(frame, cv2.COLOR_BGR2RGB)\n",
        "#     return frame"
      ]
    },
    {
      "cell_type": "code",
      "execution_count": null,
      "metadata": {
        "id": "EI-f2qg_NIfo"
      },
      "outputs": [],
      "source": [
        "\n",
        "def detect_ingredients(frame):\n",
        "    # frame = capture_frame()\n",
        "    # cap = cv2.VideoCapture(1)\n",
        "    # ret, frame = cap.read()\n",
        "    # cap.release()\n",
        "\n",
        "    if frame is None:\n",
        "        return None, json.dumps({\"name\": [], \"state\": \"Haven't\"})\n",
        "\n",
        "    # แปลงภาพจาก BGR เป็น RGB\n",
        "    img = cv2.cvtColor(frame, cv2.COLOR_BGR2RGB)\n",
        "\n",
        "    # ปรับขนาดของภาพให้เหมาะสม (640x640)\n",
        "    # img_resized = cv2.resize(img, (640, 640))\n",
        "    img_resized = img\n",
        "\n",
        "    results = model(img_resized)\n",
        "\n",
        "    ingredients = []\n",
        "    for result in results:\n",
        "        for det in result.boxes:\n",
        "            cls = int(det.cls)\n",
        "            label = model.names[cls]\n",
        "            ingredients.append(label)\n",
        "\n",
        "            # วาดกรอบรอบวัตถุที่ตรวจจับได้\n",
        "            xyxy = det.xyxy[0].cpu().numpy().astype(int)\n",
        "            cv2.rectangle(frame, (xyxy[0], xyxy[1]), (xyxy[2], xyxy[3]), (0, 255, 0), 2)\n",
        "            cv2.putText(frame, label, (xyxy[0], xyxy[1] - 10), cv2.FONT_HERSHEY_SIMPLEX, 0.9, (0, 255, 0), 2)\n",
        "\n",
        "    state = \"Have\" if len(ingredients) > 0 else \"Haven't\"\n",
        "    json_result = json.dumps({\"name\": ingredients, \"state\": state})\n",
        "\n",
        "    return  json_result\n",
        "\n",
        "\n"
      ]
    },
    {
      "cell_type": "code",
      "execution_count": null,
      "metadata": {
        "id": "XvCLfwPlNNPU"
      },
      "outputs": [],
      "source": [
        "# def gradio_interface(image):\n",
        "#     json_result = detect_ingredients(image)\n",
        "#     return json_result\n",
        "def gradio_interface(frame):\n",
        "    json_result = detect_ingredients(frame)\n",
        "    return  json_result"
      ]
    },
    {
      "cell_type": "code",
      "execution_count": null,
      "metadata": {
        "colab": {
          "base_uri": "https://localhost:8080/",
          "height": 648
        },
        "id": "EJIbThhANPu5",
        "outputId": "58a2bc2c-b5e5-48d8-ed19-606fd01c589f"
      },
      "outputs": [],
      "source": [
        "# interface = gr.Interface(fn=gradio_interface,\n",
        "#                          inputs=gr.Image(type=\"numpy\", label=\"ใส่รูปภาพของคุณ\"),\n",
        "#                          outputs=[gr.Textbox(label=\"ผลลัพธ์ JSON\")])\n",
        "\n",
        "# interface.launch()\n",
        "\n",
        "interface = gr.Interface(fn=gradio_interface,\n",
        "                         inputs= gr.Image( type=\"numpy\", label=\"ถ่ายรูปจาก webcam\"), #sources=[\"webcam\"],\n",
        "                         outputs=[\n",
        "                                  gr.Textbox(label=\"ผลลัพธ์ JSON\")])\n",
        "\n",
        "interface.launch()\n",
        "\n",
        "\n"
      ]
    },
    {
      "cell_type": "code",
      "execution_count": null,
      "metadata": {
        "id": "XOLp85qCxlwG"
      },
      "outputs": [],
      "source": []
    }
  ],
  "metadata": {
    "accelerator": "GPU",
    "colab": {
      "gpuType": "A100",
      "machine_shape": "hm",
      "provenance": []
    },
    "kernelspec": {
      "display_name": "Python 3",
      "name": "python3"
    },
    "language_info": {
      "name": "python",
      "version": "3.12.3"
    }
  },
  "nbformat": 4,
  "nbformat_minor": 0
}
